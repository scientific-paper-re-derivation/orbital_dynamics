{
 "cells": [
  {
   "cell_type": "markdown",
   "metadata": {},
   "source": [
    "Import libraries and set up environment"
   ]
  },
  {
   "cell_type": "code",
   "execution_count": 1,
   "metadata": {},
   "outputs": [],
   "source": [
    "import sympy\n",
    "sympy.init_printing()"
   ]
  },
  {
   "cell_type": "markdown",
   "metadata": {},
   "source": [
    "In this notebook we derive the Jacobi integral, a conserved quantity in the restricted, circular three body problem. The derivation is actually explained quite concisely [here](http://farside.ph.utexas.edu/teaching/336k/Newtonhtml/node121.html), but I feel the algebra is too laborious, so I let the machine grind it."
   ]
  },
  {
   "cell_type": "markdown",
   "metadata": {},
   "source": [
    "The Jacobi integral is given by"
   ]
  },
  {
   "cell_type": "code",
   "execution_count": 63,
   "metadata": {},
   "outputs": [
    {
     "data": {
      "image/png": "[encoded data removed]",
      "text/latex": [
       "$$\\frac{2 \\mu_{1}}{\\rho_{1}{\\left (t \\right )}} + \\frac{2 \\mu_{2}}{\\rho_{2}{\\left (t \\right )}} + 2 \\omega \\left(- \\eta{\\left (t \\right )} \\frac{d}{d t} \\xi{\\left (t \\right )} + \\xi{\\left (t \\right )} \\frac{d}{d t} \\eta{\\left (t \\right )}\\right) - \\left(\\frac{d}{d t} \\eta{\\left (t \\right )}\\right)^{2} - \\left(\\frac{d}{d t} \\xi{\\left (t \\right )}\\right)^{2} - \\left(\\frac{d}{d t} \\zeta{\\left (t \\right )}\\right)^{2}$$"
      ],
      "text/plain": [
       "                                                                  2           \n",
       " 2⋅μ₁    2⋅μ₂       ⎛       d               d       ⎞   ⎛d       ⎞    ⎛d      \n",
       "───── + ───── + 2⋅ω⋅⎜- η(t)⋅──(ξ(t)) + ξ(t)⋅──(η(t))⎟ - ⎜──(η(t))⎟  - ⎜──(ξ(t)\n",
       "ρ₁(t)   ρ₂(t)       ⎝       dt              dt      ⎠   ⎝dt      ⎠    ⎝dt     \n",
       "\n",
       "  2             2\n",
       " ⎞    ⎛d       ⎞ \n",
       ")⎟  - ⎜──(ζ(t))⎟ \n",
       " ⎠    ⎝dt      ⎠ "
      ]
     },
     "execution_count": 63,
     "metadata": {},
     "output_type": "execute_result"
    }
   ],
   "source": [
    "mu_1 = sympy.Symbol('mu_1', positive=True) # Dimensionless gravitational parameter of the first mass\n",
    "mu_2 = sympy.Symbol('mu_2', positive=True) # Dimensionless gravitational parameter of the second mass\n",
    "rho_1 = sympy.Function('rho_1') # Dimensionless distance between the first mass and the test particle\n",
    "rho_2 = sympy.Function('rho_2') # Dimensionless distance between the second mass and the test particle\n",
    "omega = sympy.Symbol('omega', positive=True) # Rotation frequency\n",
    "xi = sympy.Function('xi') # First coordinte of the test particle\n",
    "eta = sympy.Function('eta') # Second coordinate of the test particle\n",
    "zeta = sympy.Function('zeta') # Third coordinate of the test particle\n",
    "t = sympy.Symbol('t', positive=True) # Time\n",
    "jacobi_integral = (2*(mu_1/rho_1(t)+mu_2/rho_2(t))+\n",
    "                   2*omega*(xi(t)*eta(t).diff(t) - eta(t)*xi(t).diff(t))-\n",
    "                  (zeta(t).diff(t))**2-(eta(t).diff(t))**2-(xi(t).diff(t))**2)\n",
    "jacobi_integral"
   ]
  },
  {
   "cell_type": "markdown",
   "metadata": {},
   "source": [
    "Position of the test particle"
   ]
  },
  {
   "cell_type": "code",
   "execution_count": 21,
   "metadata": {},
   "outputs": [
    {
     "data": {
      "text/latex": [
       "$$\\left[\\begin{matrix}\\xi{\\left (t \\right )}\\\\\\eta{\\left (t \\right )}\\\\\\zeta{\\left (t \\right )}\\end{matrix}\\right]$$"
      ],
      "text/plain": [
       "⎡ξ(t)⎤\n",
       "⎢    ⎥\n",
       "⎢η(t)⎥\n",
       "⎢    ⎥\n",
       "⎣ζ(t)⎦"
      ]
     },
     "execution_count": 21,
     "metadata": {},
     "output_type": "execute_result"
    }
   ],
   "source": [
    "pos_t = sympy.Matrix([xi(t),eta(t),zeta(t)])\n",
    "pos_t"
   ]
  },
  {
   "cell_type": "markdown",
   "metadata": {},
   "source": [
    "The position of the first mass is given by"
   ]
  },
  {
   "cell_type": "code",
   "execution_count": 24,
   "metadata": {},
   "outputs": [
    {
     "data": {
      "text/latex": [
       "$$\\left[\\begin{matrix}- \\mu_{2} \\cos{\\left (\\omega t \\right )}\\\\- \\mu_{2} \\sin{\\left (\\omega t \\right )}\\\\0\\end{matrix}\\right]$$"
      ],
      "text/plain": [
       "⎡-μ₂⋅cos(ω⋅t)⎤\n",
       "⎢            ⎥\n",
       "⎢-μ₂⋅sin(ω⋅t)⎥\n",
       "⎢            ⎥\n",
       "⎣     0      ⎦"
      ]
     },
     "execution_count": 24,
     "metadata": {},
     "output_type": "execute_result"
    }
   ],
   "source": [
    "pos_1 = mu_2*sympy.Matrix([-sympy.cos(omega*t), -sympy.sin(omega*t), 0])\n",
    "pos_1"
   ]
  },
  {
   "cell_type": "markdown",
   "metadata": {},
   "source": [
    "The position of the second mass is given by"
   ]
  },
  {
   "cell_type": "code",
   "execution_count": 25,
   "metadata": {},
   "outputs": [
    {
     "data": {
      "text/latex": [
       "$$\\left[\\begin{matrix}\\mu_{1} \\cos{\\left (\\omega t \\right )}\\\\\\mu_{1} \\sin{\\left (\\omega t \\right )}\\\\0\\end{matrix}\\right]$$"
      ],
      "text/plain": [
       "⎡μ₁⋅cos(ω⋅t)⎤\n",
       "⎢           ⎥\n",
       "⎢μ₁⋅sin(ω⋅t)⎥\n",
       "⎢           ⎥\n",
       "⎣     0     ⎦"
      ]
     },
     "execution_count": 25,
     "metadata": {},
     "output_type": "execute_result"
    }
   ],
   "source": [
    "pos_2 = mu_1*sympy.Matrix([sympy.cos(omega*t), sympy.sin(omega*t), 0])\n",
    "pos_2"
   ]
  },
  {
   "cell_type": "markdown",
   "metadata": {},
   "source": [
    "The distances between the test particle and the first mass is given by"
   ]
  },
  {
   "cell_type": "code",
   "execution_count": 34,
   "metadata": {},
   "outputs": [
    {
     "data": {
      "image/png": "[encoded data removed]",
      "text/latex": [
       "$$\\rho_{1}^{2}{\\left (t \\right )} = \\left(\\mu_{2} \\sin{\\left (\\omega t \\right )} + \\eta{\\left (t \\right )}\\right)^{2} + \\left(\\mu_{2} \\cos{\\left (\\omega t \\right )} + \\xi{\\left (t \\right )}\\right)^{2} + \\zeta^{2}{\\left (t \\right )}$$"
      ],
      "text/plain": [
       "  2                          2                       2    2   \n",
       "ρ₁ (t) = (μ₂⋅sin(ω⋅t) + η(t))  + (μ₂⋅cos(ω⋅t) + ξ(t))  + ζ (t)"
      ]
     },
     "execution_count": 34,
     "metadata": {},
     "output_type": "execute_result"
    }
   ],
   "source": [
    "temp = pos_t - pos_1\n",
    "rho_1_def = sympy.Eq(rho_1(t)**2,temp.dot(temp))\n",
    "rho_1_def"
   ]
  },
  {
   "cell_type": "markdown",
   "metadata": {},
   "source": [
    "The distance between the test particle and the second mass is given by"
   ]
  },
  {
   "cell_type": "code",
   "execution_count": 35,
   "metadata": {},
   "outputs": [
    {
     "data": {
      "image/png": "[encoded data removed]",
      "text/latex": [
       "$$\\rho_{2}^{2}{\\left (t \\right )} = \\left(- \\mu_{1} \\sin{\\left (\\omega t \\right )} + \\eta{\\left (t \\right )}\\right)^{2} + \\left(- \\mu_{1} \\cos{\\left (\\omega t \\right )} + \\xi{\\left (t \\right )}\\right)^{2} + \\zeta^{2}{\\left (t \\right )}$$"
      ],
      "text/plain": [
       "  2                           2                        2    2   \n",
       "ρ₂ (t) = (-μ₁⋅sin(ω⋅t) + η(t))  + (-μ₁⋅cos(ω⋅t) + ξ(t))  + ζ (t)"
      ]
     },
     "execution_count": 35,
     "metadata": {},
     "output_type": "execute_result"
    }
   ],
   "source": [
    "temp = pos_t - pos_2\n",
    "rho_2_def = sympy.Eq(rho_2(t)**2, temp.dot(temp))\n",
    "rho_2_def"
   ]
  },
  {
   "cell_type": "markdown",
   "metadata": {},
   "source": [
    "Equations of motion for the test particle"
   ]
  },
  {
   "cell_type": "code",
   "execution_count": 56,
   "metadata": {},
   "outputs": [
    {
     "data": {
      "text/latex": [
       "$$\\left[\\begin{matrix}- \\frac{\\mu_{1} \\left(\\mu_{2} \\cos{\\left (\\omega t \\right )} + \\xi{\\left (t \\right )}\\right)}{\\rho_{1}^{3}{\\left (t \\right )}} - \\frac{\\mu_{2} \\left(- \\mu_{1} \\cos{\\left (\\omega t \\right )} + \\xi{\\left (t \\right )}\\right)}{\\rho_{2}^{3}{\\left (t \\right )}}\\\\- \\frac{\\mu_{1} \\left(\\mu_{2} \\sin{\\left (\\omega t \\right )} + \\eta{\\left (t \\right )}\\right)}{\\rho_{1}^{3}{\\left (t \\right )}} - \\frac{\\mu_{2} \\left(- \\mu_{1} \\sin{\\left (\\omega t \\right )} + \\eta{\\left (t \\right )}\\right)}{\\rho_{2}^{3}{\\left (t \\right )}}\\\\- \\frac{\\mu_{1} \\zeta{\\left (t \\right )}}{\\rho_{1}^{3}{\\left (t \\right )}} - \\frac{\\mu_{2} \\zeta{\\left (t \\right )}}{\\rho_{2}^{3}{\\left (t \\right )}}\\end{matrix}\\right]$$"
      ],
      "text/plain": [
       "⎡  μ₁⋅(μ₂⋅cos(ω⋅t) + ξ(t))   μ₂⋅(-μ₁⋅cos(ω⋅t) + ξ(t))⎤\n",
       "⎢- ─────────────────────── - ────────────────────────⎥\n",
       "⎢             3                         3            ⎥\n",
       "⎢           ρ₁ (t)                    ρ₂ (t)         ⎥\n",
       "⎢                                                    ⎥\n",
       "⎢  μ₁⋅(μ₂⋅sin(ω⋅t) + η(t))   μ₂⋅(-μ₁⋅sin(ω⋅t) + η(t))⎥\n",
       "⎢- ─────────────────────── - ────────────────────────⎥\n",
       "⎢             3                         3            ⎥\n",
       "⎢           ρ₁ (t)                    ρ₂ (t)         ⎥\n",
       "⎢                                                    ⎥\n",
       "⎢                  μ₁⋅ζ(t)   μ₂⋅ζ(t)                 ⎥\n",
       "⎢                - ─────── - ───────                 ⎥\n",
       "⎢                     3         3                    ⎥\n",
       "⎣                   ρ₁ (t)    ρ₂ (t)                 ⎦"
      ]
     },
     "execution_count": 56,
     "metadata": {},
     "output_type": "execute_result"
    }
   ],
   "source": [
    "accelerations = -mu_1*(pos_t-pos_1)/rho_1(t)**3-mu_2*(pos_t-pos_2)/rho_2(t)**3\n",
    "accelerations"
   ]
  },
  {
   "cell_type": "markdown",
   "metadata": {},
   "source": [
    "Next, we need to prove the Jacobi integral is a constant of the motion"
   ]
  },
  {
   "cell_type": "code",
   "execution_count": 64,
   "metadata": {},
   "outputs": [
    {
     "data": {
      "image/png": "[encoded data removed]",
      "text/latex": [
       "$$0$$"
      ],
      "text/plain": [
       "0"
      ]
     },
     "execution_count": 64,
     "metadata": {},
     "output_type": "execute_result"
    }
   ],
   "source": [
    "temp = jacobi_integral.diff(t)\n",
    "temp = temp.subs(sympy.solve(sympy.Eq(rho_1_def.lhs.diff(t), rho_1_def.rhs.diff(t)), rho_1(t).diff(t), dict=True)[0])\n",
    "temp = temp.subs(sympy.solve(sympy.Eq(rho_2_def.lhs.diff(t), rho_2_def.rhs.diff(t)), rho_2(t).diff(t), dict=True)[0])\n",
    "temp = temp.subs(xi(t).diff(t,2), accelerations[0])\n",
    "temp = temp.subs(eta(t).diff(t,2), accelerations[1])\n",
    "temp = temp.subs(zeta(t).diff(t,2), accelerations[2])\n",
    "#temp = temp.subs(mu_2, 1-mu_1)\n",
    "temp.simplify()"
   ]
  },
  {
   "cell_type": "code",
   "execution_count": null,
   "metadata": {},
   "outputs": [],
   "source": []
  }
 ],
 "metadata": {
  "kernelspec": {
   "display_name": "Python 3",
   "language": "python",
   "name": "python3"
  },
  "language_info": {
   "codemirror_mode": {
    "name": "ipython",
    "version": 3
   },
   "file_extension": ".py",
   "mimetype": "text/x-python",
   "name": "python",
   "nbconvert_exporter": "python",
   "pygments_lexer": "ipython3",
   "version": "3.7.1"
  }
 },
 "nbformat": 4,
 "nbformat_minor": 2
}
