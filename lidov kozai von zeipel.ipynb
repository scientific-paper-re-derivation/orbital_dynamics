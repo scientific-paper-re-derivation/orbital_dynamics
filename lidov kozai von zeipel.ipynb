{
 "cells": [
  {
   "cell_type": "code",
   "execution_count": 1,
   "metadata": {},
   "outputs": [],
   "source": [
    "import sympy\n",
    "sympy.init_printing()"
   ]
  },
  {
   "cell_type": "markdown",
   "metadata": {},
   "source": [
    "In this notebook we consider the evolution of a binary due to some external potential. This is very similar to [Hamilton and rafikov 2019](https://arxiv.org/pdf/1902.01344.pdf). To get the average energy of the system, we need to average both over the short orbital period $T_i$ (subscript $i$ for inner) of the binary, and the long orbital period $T_o$ (subscript $o$ for outer) of the centre of mass in the external potential $\\varphi$."
   ]
  },
  {
   "cell_type": "markdown",
   "metadata": {},
   "source": [
    "$\\bar{U} = \\frac{1}{T_o} \\int_0^{T_o} dt \\frac{1}{T_i} \\int_0^{T_i} dt' \\left[m_1 \\varphi\\left(\\mathbf{s} \\left(t \\right ) + \\mathbf{r}_1 \\left(t' \\right ) \\right ) + m_2 \\varphi \\left(\\mathbf{s}\\left(t \\right ) + \\mathbf{r}_2 \\left(t' \\right ) \\right ) \\right]$"
   ]
  },
  {
   "cell_type": "markdown",
   "metadata": {},
   "source": [
    "where $m_1$ is the mass of the first companion in the binaty, $m_2$ is the mass of the second companion, $\\mathbf{s}$ is the position of the centre of mass, $\\mathbf{r}_1$ is the position of the first mass relative to the centre of mass of the first companion and $\\mathbf{r}_2$ is the position of the second mass relative to the centre of mass. Expanding the potential about the centre of mass yields"
   ]
  },
  {
   "cell_type": "markdown",
   "metadata": {},
   "source": [
    "$\\bar{U} \\approx \\frac{1}{T_o} \\int_0^{T_o} dt \\frac{1}{T_i} \\int_0^{T_i} dt' \\left[\\left(m_1+m_2 \\right ) \\varphi\\left(\\mathbf{s} \\left(t \\right) \\right) + \\left(m_1 \\mathbf{r}_1 \\left(t' \\right ) + m_2 \\mathbf{r}_2 \\left(t' \\right ) \\right ) \\varphi'\\left(\\mathbf{s} \\left(t \\right ) \\right ) \\right] + $"
   ]
  },
  {
   "cell_type": "markdown",
   "metadata": {},
   "source": [
    "$+ \\frac{1}{T_o} \\int_0^{T_o} dt \\frac{1}{T_i} \\int_0^{T_i} dt' \\frac{1}{2}\\left[m_1 \\mathbf{r}_1 \\left(t' \\right ) \\varphi'' \\left(t \\right ) \\mathbf{r}_1 \\left(t' \\right ) + m_2 \\mathbf{r}_2 \\left(t' \\right ) \\varphi''\\left(\\mathbf{s}\\left(t\\right)\\right ) \\mathbf{r}_2 \\left(t' \\right )\\right]$"
   ]
  },
  {
   "cell_type": "markdown",
   "metadata": {},
   "source": [
    "The first order term does not depend on the binary parameters, so it just evaluates to a constant. The second order term vanishes since by definition of the centre of mass $m_1 \\mathbf{r}_1 \\left(t' \\right ) + m_2 \\mathbf{r}_2 \\left(t' \\right ) = 0$. The remaining term can be broken into two distinct integrals"
   ]
  },
  {
   "cell_type": "markdown",
   "metadata": {},
   "source": [
    "$\\bar{U} \\approx C_0 + Tr \\left\\{\\mathbf{T} \\cdot \\mathbf{I} \\right\\}$"
   ]
  },
  {
   "cell_type": "markdown",
   "metadata": {},
   "source": [
    "where"
   ]
  },
  {
   "cell_type": "markdown",
   "metadata": {},
   "source": [
    "$\\mathbf{T} = \\frac{1}{T_o}\\int_0^{T_o} dt \\varphi''\\left(\\mathbf{s} \\left(t\\right)\\right)$"
   ]
  },
  {
   "cell_type": "markdown",
   "metadata": {},
   "source": [
    "is the tidal tensor and"
   ]
  },
  {
   "cell_type": "markdown",
   "metadata": {},
   "source": [
    "$\\mathbf{I} = \\frac{1}{2}\\frac{1}{T_i} \\int_0^{T_i} dt' \\left(m_1 \\mathbf{r}_1 \\otimes \\mathbf{r}_1 + m_2 \\mathbf{r}_2 \\otimes \\mathbf{r}_2 \\right)$"
   ]
  },
  {
   "cell_type": "markdown",
   "metadata": {},
   "source": [
    "is the inertial tensor. We define a new variable $\\mathbf{r} = \\mathbf{r}_1 - \\mathbf{r}_2$, so $\\mathbf{r}_1 = \\frac{m_2}{m_1 + m_2} \\mathbf{r}$ and $\\mathbf{r}_2 = -\\frac{m_1}{m_1 + m_2} \\mathbf{r}$, to obtain"
   ]
  },
  {
   "cell_type": "markdown",
   "metadata": {},
   "source": [
    "$\\mathbf{I} = \\frac{1}{2} \\frac{\\mu}{T_i} \\int_0^{T_i} dt' \\mathbf{r} \\otimes \\mathbf{r}$"
   ]
  },
  {
   "cell_type": "markdown",
   "metadata": {},
   "source": [
    "where $\\mu = \\frac{m_1 m_2}{m_1 + m_2}$ is the reduced mass and $\\otimes$ is the [outer product](https://en.wikipedia.org/wiki/Outer_product). Using Kepler's third law, we can convert the time average to an average weighted by area"
   ]
  },
  {
   "cell_type": "markdown",
   "metadata": {},
   "source": [
    "$\\mathbf{I} = \\frac{\\mu}{2} \\int_0^{2 \\pi} r^2 \\mathbf{r} \\otimes \\mathbf{r} d \\theta / \\int_0^{2 \\pi} r^2 d\\theta$"
   ]
  },
  {
   "cell_type": "markdown",
   "metadata": {},
   "source": [
    "where $\\theta$ is the true anomaly. The [Keplerian orbit](https://en.wikipedia.org/wiki/Kepler_orbit#Development_of_the_laws) is given by"
   ]
  },
  {
   "cell_type": "code",
   "execution_count": 2,
   "metadata": {},
   "outputs": [
    {
     "data": {
      "image/png": "[encoded data removed]",
      "text/latex": [
       "$\\displaystyle \\frac{a \\left(1 - e^{2}\\right)}{e \\cos{\\left(\\theta \\right)} + 1}$"
      ],
      "text/plain": [
       "   ⎛     2⎞ \n",
       " a⋅⎝1 - e ⎠ \n",
       "────────────\n",
       "e⋅cos(θ) + 1"
      ]
     },
     "execution_count": 2,
     "metadata": {},
     "output_type": "execute_result"
    }
   ],
   "source": [
    "a = sympy.Symbol('a', positive=True) # Semi major axis of the binary\n",
    "e = sympy.Symbol('e', positive=True) # Binary eccentricity\n",
    "theta = sympy.Symbol('theta', positive=True) # True anomaly\n",
    "kepler_radius = a*(1-e**2)/(1+e*sympy.cos(theta))\n",
    "kepler_radius"
   ]
  },
  {
   "cell_type": "markdown",
   "metadata": {},
   "source": [
    "In a coordinate system where the $x$ axis is aligned with the periapse and the $z$ axis is normal to the plane of motions, the position vector is given by"
   ]
  },
  {
   "cell_type": "code",
   "execution_count": 3,
   "metadata": {},
   "outputs": [
    {
     "data": {
      "text/latex": [
       "$\\displaystyle \\left[\\begin{matrix}\\frac{a \\left(1 - e^{2}\\right) \\cos{\\left(\\theta \\right)}}{e \\cos{\\left(\\theta \\right)} + 1}\\\\\\frac{a \\left(1 - e^{2}\\right) \\sin{\\left(\\theta \\right)}}{e \\cos{\\left(\\theta \\right)} + 1}\\\\0\\end{matrix}\\right]$"
      ],
      "text/plain": [
       "⎡  ⎛     2⎞       ⎤\n",
       "⎢a⋅⎝1 - e ⎠⋅cos(θ)⎥\n",
       "⎢─────────────────⎥\n",
       "⎢   e⋅cos(θ) + 1  ⎥\n",
       "⎢                 ⎥\n",
       "⎢  ⎛     2⎞       ⎥\n",
       "⎢a⋅⎝1 - e ⎠⋅sin(θ)⎥\n",
       "⎢─────────────────⎥\n",
       "⎢   e⋅cos(θ) + 1  ⎥\n",
       "⎢                 ⎥\n",
       "⎣        0        ⎦"
      ]
     },
     "execution_count": 3,
     "metadata": {},
     "output_type": "execute_result"
    }
   ],
   "source": [
    "kepler_position = kepler_radius*sympy.Matrix([sympy.cos(theta), sympy.sin(theta), 0])\n",
    "kepler_position"
   ]
  },
  {
   "cell_type": "markdown",
   "metadata": {},
   "source": [
    "The inertial tensor is given by"
   ]
  },
  {
   "cell_type": "code",
   "execution_count": 31,
   "metadata": {},
   "outputs": [
    {
     "data": {
      "image/png": "[encoded data removed]",
      "text/latex": [
       "$\\displaystyle - \\pi a^{2} e^{2} + 2 \\pi a^{2}$"
      ],
      "text/plain": [
       "     2  2        2\n",
       "- π⋅a ⋅e  + 2⋅π⋅a "
      ]
     },
     "execution_count": 31,
     "metadata": {},
     "output_type": "execute_result"
    }
   ],
   "source": [
    "temp = kepler_radius**2\n",
    "temp = temp.series(e,0,3).removeO()\n",
    "temp = temp.integrate((theta,0,2*sympy.pi))\n",
    "binary_normalisation = temp\n",
    "binary_normalisation"
   ]
  },
  {
   "cell_type": "code",
   "execution_count": 34,
   "metadata": {},
   "outputs": [
    {
     "data": {
      "text/latex": [
       "$\\displaystyle \\left[\\begin{matrix}\\frac{a^{2} \\mu \\left(4 e^{2} + 1\\right)}{4} & 0 & 0\\\\0 & \\frac{a^{2} \\mu \\left(1 - e^{2}\\right)}{4} & 0\\\\0 & 0 & 0\\end{matrix}\\right]$"
      ],
      "text/plain": [
       "⎡ 2   ⎛   2    ⎞                  ⎤\n",
       "⎢a ⋅μ⋅⎝4⋅e  + 1⎠                  ⎥\n",
       "⎢───────────────        0        0⎥\n",
       "⎢       4                         ⎥\n",
       "⎢                                 ⎥\n",
       "⎢                  2   ⎛     2⎞   ⎥\n",
       "⎢                 a ⋅μ⋅⎝1 - e ⎠   ⎥\n",
       "⎢       0         ─────────────  0⎥\n",
       "⎢                       4         ⎥\n",
       "⎢                                 ⎥\n",
       "⎣       0               0        0⎦"
      ]
     },
     "execution_count": 34,
     "metadata": {},
     "output_type": "execute_result"
    }
   ],
   "source": [
    "mu = sympy.Symbol('mu', positive=True) # Reduced mass\n",
    "temp = (mu/2)*kepler_position*kepler_position.T*kepler_radius**2/binary_normalisation\n",
    "temp = [[temp[i,j].series(e,0,3).removeO() for i in range(3)] for j in range(3)]\n",
    "temp = sympy.Matrix(temp)\n",
    "temp = sympy.integrate(temp,(theta,0,2*sympy.pi))\n",
    "temp = temp.simplify()\n",
    "inertial_tensor = temp\n",
    "inertial_tensor"
   ]
  },
  {
   "cell_type": "markdown",
   "metadata": {},
   "source": [
    "We proceed to calculate the tidal tensor, assuming the potential is due to a point mass $M \\gg m_1, m_2$. The tidal tensor at each point is given by"
   ]
  },
  {
   "cell_type": "code",
   "execution_count": 35,
   "metadata": {},
   "outputs": [
    {
     "data": {
      "text/latex": [
       "$\\displaystyle \\left[\\begin{matrix}\\frac{3 G M x^{2}}{\\left(x^{2} + y^{2} + z^{2}\\right)^{\\frac{5}{2}}} - \\frac{G M}{\\left(x^{2} + y^{2} + z^{2}\\right)^{\\frac{3}{2}}} & \\frac{3 G M x y}{\\left(x^{2} + y^{2} + z^{2}\\right)^{\\frac{5}{2}}} & \\frac{3 G M x z}{\\left(x^{2} + y^{2} + z^{2}\\right)^{\\frac{5}{2}}}\\\\\\frac{3 G M x y}{\\left(x^{2} + y^{2} + z^{2}\\right)^{\\frac{5}{2}}} & \\frac{3 G M y^{2}}{\\left(x^{2} + y^{2} + z^{2}\\right)^{\\frac{5}{2}}} - \\frac{G M}{\\left(x^{2} + y^{2} + z^{2}\\right)^{\\frac{3}{2}}} & \\frac{3 G M y z}{\\left(x^{2} + y^{2} + z^{2}\\right)^{\\frac{5}{2}}}\\\\\\frac{3 G M x z}{\\left(x^{2} + y^{2} + z^{2}\\right)^{\\frac{5}{2}}} & \\frac{3 G M y z}{\\left(x^{2} + y^{2} + z^{2}\\right)^{\\frac{5}{2}}} & \\frac{3 G M z^{2}}{\\left(x^{2} + y^{2} + z^{2}\\right)^{\\frac{5}{2}}} - \\frac{G M}{\\left(x^{2} + y^{2} + z^{2}\\right)^{\\frac{3}{2}}}\\end{matrix}\\right]$"
      ],
      "text/plain": [
       "⎡            2                                                                \n",
       "⎢     3⋅G⋅M⋅x               G⋅M                       3⋅G⋅M⋅x⋅y               \n",
       "⎢───────────────── - ─────────────────            ─────────────────           \n",
       "⎢              5/2                 3/2                          5/2           \n",
       "⎢⎛ 2    2    2⎞      ⎛ 2    2    2⎞               ⎛ 2    2    2⎞              \n",
       "⎢⎝x  + y  + z ⎠      ⎝x  + y  + z ⎠               ⎝x  + y  + z ⎠              \n",
       "⎢                                                                             \n",
       "⎢                                                   2                         \n",
       "⎢              3⋅G⋅M⋅x⋅y                     3⋅G⋅M⋅y               G⋅M        \n",
       "⎢          ─────────────────            ───────────────── - ───────────────── \n",
       "⎢                        5/2                          5/2                 3/2 \n",
       "⎢          ⎛ 2    2    2⎞               ⎛ 2    2    2⎞      ⎛ 2    2    2⎞    \n",
       "⎢          ⎝x  + y  + z ⎠               ⎝x  + y  + z ⎠      ⎝x  + y  + z ⎠    \n",
       "⎢                                                                             \n",
       "⎢                                                                             \n",
       "⎢              3⋅G⋅M⋅x⋅z                              3⋅G⋅M⋅y⋅z               \n",
       "⎢          ─────────────────                      ─────────────────           \n",
       "⎢                        5/2                                    5/2           \n",
       "⎢          ⎛ 2    2    2⎞                         ⎛ 2    2    2⎞              \n",
       "⎣          ⎝x  + y  + z ⎠                         ⎝x  + y  + z ⎠              \n",
       "\n",
       "                                      ⎤\n",
       "               3⋅G⋅M⋅x⋅z              ⎥\n",
       "           ─────────────────          ⎥\n",
       "                         5/2          ⎥\n",
       "           ⎛ 2    2    2⎞             ⎥\n",
       "           ⎝x  + y  + z ⎠             ⎥\n",
       "                                      ⎥\n",
       "                                      ⎥\n",
       "               3⋅G⋅M⋅y⋅z              ⎥\n",
       "           ─────────────────          ⎥\n",
       "                         5/2          ⎥\n",
       "           ⎛ 2    2    2⎞             ⎥\n",
       "           ⎝x  + y  + z ⎠             ⎥\n",
       "                                      ⎥\n",
       "             2                        ⎥\n",
       "      3⋅G⋅M⋅z               G⋅M       ⎥\n",
       " ───────────────── - ─────────────────⎥\n",
       "               5/2                 3/2⎥\n",
       " ⎛ 2    2    2⎞      ⎛ 2    2    2⎞   ⎥\n",
       " ⎝x  + y  + z ⎠      ⎝x  + y  + z ⎠   ⎦"
      ]
     },
     "execution_count": 35,
     "metadata": {},
     "output_type": "execute_result"
    }
   ],
   "source": [
    "G = sympy.Symbol('G', positive=True) # Gravitation constant\n",
    "M = sympy.Symbol('M', positive=True) # Mass\n",
    "x = sympy.Symbol('x', real=True) # x coordinate\n",
    "y = sympy.Symbol('y', real=True) # y coordinate\n",
    "z = sympy.Symbol('z', real=True) # z coordinate\n",
    "temp = G*M/sympy.sqrt(x**2+y**2+z**2)\n",
    "temp = [[temp.diff(var1).diff(var2) for var1 in [x,y,z]] for var2 in [x,y,z]]\n",
    "temp = sympy.Matrix(temp)\n",
    "local_tidal_tensor = temp\n",
    "local_tidal_tensor"
   ]
  },
  {
   "cell_type": "markdown",
   "metadata": {},
   "source": [
    "We time average over the orbit of the binary barycentre around $M$. We assume that it moves on a Keplerian orbit with semi major axis $A$ and eccentricity $E$"
   ]
  },
  {
   "cell_type": "code",
   "execution_count": 37,
   "metadata": {},
   "outputs": [
    {
     "data": {
      "text/latex": [
       "$\\displaystyle \\left[\\begin{matrix}\\frac{G M \\sqrt{1 - E^{2}}}{2 A^{3}} & 0 & 0\\\\0 & \\frac{G M \\sqrt{1 - E^{2}}}{2 A^{3}} & 0\\\\0 & 0 & - \\frac{G M \\sqrt{1 - E^{2}}}{A^{3}}\\end{matrix}\\right]$"
      ],
      "text/plain": [
       "⎡       ________                                    ⎤\n",
       "⎢      ╱      2                                     ⎥\n",
       "⎢G⋅M⋅╲╱  1 - E                                      ⎥\n",
       "⎢───────────────         0                 0        ⎥\n",
       "⎢         3                                         ⎥\n",
       "⎢      2⋅A                                          ⎥\n",
       "⎢                                                   ⎥\n",
       "⎢                        ________                   ⎥\n",
       "⎢                       ╱      2                    ⎥\n",
       "⎢                 G⋅M⋅╲╱  1 - E                     ⎥\n",
       "⎢       0         ───────────────          0        ⎥\n",
       "⎢                          3                        ⎥\n",
       "⎢                       2⋅A                         ⎥\n",
       "⎢                                                   ⎥\n",
       "⎢                                          ________ ⎥\n",
       "⎢                                         ╱      2  ⎥\n",
       "⎢                                  -G⋅M⋅╲╱  1 - E   ⎥\n",
       "⎢       0                0         ─────────────────⎥\n",
       "⎢                                           3       ⎥\n",
       "⎣                                          A        ⎦"
      ]
     },
     "execution_count": 37,
     "metadata": {},
     "output_type": "execute_result"
    }
   ],
   "source": [
    "A = sympy.Symbol('A', positive=True) # Semi major axis of the outer orbit\n",
    "E = sympy.Symbol('E', positive=True) # Eccentricity of the outer orbit\n",
    "R = sympy.Symbol('R', positive=True) # Radius of the outer orbt\n",
    "xi = sympy.Symbol('xi', positive=True) # Positive auxiliary variable\n",
    "temp = local_tidal_tensor.subs(x, R*sympy.cos(theta))\n",
    "temp = temp.subs(y, R*sympy.sin(theta))\n",
    "temp = temp.subs(z, 0)\n",
    "temp = temp*R**2\n",
    "temp = temp.subs(R, A*(1-E**2)/(1+E*sympy.cos(theta)))\n",
    "temp = sympy.simplify(temp)\n",
    "temp = temp.subs(E**2-1,-xi)\n",
    "temp = temp.subs(xi,1-E**2)\n",
    "temp = temp.subs(1+E*sympy.cos(theta),xi)\n",
    "temp = temp.subs(xi,1+E*sympy.cos(theta))\n",
    "temp = sympy.Matrix([[temp[i,j].integrate((theta,0,2*sympy.pi)) for i in range(3)] for j in range(3)])\n",
    "temp = temp/(2*sympy.pi*A**2/(1-E**2)**sympy.Rational(3,2))\n",
    "temp = sympy.simplify(temp)\n",
    "tidal_tensor = temp\n",
    "tidal_tensor"
   ]
  },
  {
   "cell_type": "markdown",
   "metadata": {},
   "source": [
    "Each one of the calculations in the perivous sections was performed in a coordinate system that is aligned with the primary axes. To take into account the orientation of each orbit (binary vs. the motion of the barycentre) we introduce two rotation matrices. In the most general case three rotation matrices are needed, but because the tidal tensor has rotational symmetry in $x-y$ plane we only need two angle. One rotation angle is the mutual inclination between the two planes of motion"
   ]
  },
  {
   "cell_type": "code",
   "execution_count": 38,
   "metadata": {},
   "outputs": [
    {
     "data": {
      "text/latex": [
       "$\\displaystyle \\left[\\begin{matrix}\\cos{\\left(\\alpha \\right)} & 0 & \\sin{\\left(\\alpha \\right)}\\\\0 & 1 & 0\\\\- \\sin{\\left(\\alpha \\right)} & 0 & \\cos{\\left(\\alpha \\right)}\\end{matrix}\\right]$"
      ],
      "text/plain": [
       "⎡cos(α)   0  sin(α)⎤\n",
       "⎢                  ⎥\n",
       "⎢   0     1    0   ⎥\n",
       "⎢                  ⎥\n",
       "⎣-sin(α)  0  cos(α)⎦"
      ]
     },
     "execution_count": 38,
     "metadata": {},
     "output_type": "execute_result"
    }
   ],
   "source": [
    "alpha = sympy.Symbol('alpha', positive=True) # Rotation angle\n",
    "temp = [[sympy.cos(alpha),0,sympy.sin(alpha)],\n",
    "        [0,1,0],\n",
    "        [-sympy.sin(alpha),0, sympy.cos(alpha)]]\n",
    "Rxz = sympy.Matrix(temp)\n",
    "Rxz"
   ]
  },
  {
   "cell_type": "markdown",
   "metadata": {},
   "source": [
    "The other rotation angle is the argument of periapse, i.e. the rotation axis is normal to the plane of motion, and it changes the angle between the lines of periapse"
   ]
  },
  {
   "cell_type": "code",
   "execution_count": 40,
   "metadata": {},
   "outputs": [
    {
     "data": {
      "text/latex": [
       "$\\displaystyle \\left[\\begin{matrix}\\cos{\\left(\\beta \\right)} & \\sin{\\left(\\beta \\right)} & 0\\\\- \\sin{\\left(\\beta \\right)} & \\cos{\\left(\\beta \\right)} & 0\\\\0 & 0 & 1\\end{matrix}\\right]$"
      ],
      "text/plain": [
       "⎡cos(β)   sin(β)  0⎤\n",
       "⎢                  ⎥\n",
       "⎢-sin(β)  cos(β)  0⎥\n",
       "⎢                  ⎥\n",
       "⎣   0       0     1⎦"
      ]
     },
     "execution_count": 40,
     "metadata": {},
     "output_type": "execute_result"
    }
   ],
   "source": [
    "beta = sympy.Symbol('beta')\n",
    "temp = [[sympy.cos(beta),sympy.sin(beta),0],\n",
    "        [-sympy.sin(beta), sympy.cos(beta),0],\n",
    "        [0,0,1]]\n",
    "Rxy = sympy.Matrix(temp)\n",
    "Rxy"
   ]
  },
  {
   "cell_type": "markdown",
   "metadata": {},
   "source": [
    "Finally, we have Lidov Kozai ([von Zeipel](https://arxiv.org/pdf/1911.03984.pdf)?) doubly time averaged energy"
   ]
  },
  {
   "cell_type": "code",
   "execution_count": 42,
   "metadata": {},
   "outputs": [
    {
     "data": {
      "image/png": "[encoded data removed]",
      "text/latex": [
       "$\\displaystyle - \\frac{G M a^{2} \\mu \\sqrt{1 - E^{2}} \\left(15 e^{2} \\sin^{2}{\\left(\\alpha \\right)} \\cos{\\left(\\xi \\right)} + 9 e^{2} \\sin^{2}{\\left(\\alpha \\right)} - 6 e^{2} + 6 \\sin^{2}{\\left(\\alpha \\right)} - 4\\right)}{16 A^{3}}$"
      ],
      "text/plain": [
       "             ________                                                         \n",
       "      2     ╱      2  ⎛    2    2                2    2         2        2    \n",
       "-G⋅M⋅a ⋅μ⋅╲╱  1 - E  ⋅⎝15⋅e ⋅sin (α)⋅cos(ξ) + 9⋅e ⋅sin (α) - 6⋅e  + 6⋅sin (α) \n",
       "──────────────────────────────────────────────────────────────────────────────\n",
       "                                           3                                  \n",
       "                                       16⋅A                                   \n",
       "\n",
       "     \n",
       "   ⎞ \n",
       "- 4⎠ \n",
       "─────\n",
       "     \n",
       "     "
      ]
     },
     "execution_count": 42,
     "metadata": {},
     "output_type": "execute_result"
    }
   ],
   "source": [
    "temp = Rxy*Rxz*tidal_tensor*Rxz.T*Rxy.T*inertial_tensor\n",
    "temp = temp.trace()\n",
    "temp = temp.simplify()\n",
    "temp = temp.subs(sympy.sin(beta)**2, (1-sympy.cos(xi))/2) # Here xi = 2*beta is used to help with the double angle identities\n",
    "temp = temp.subs(sympy.cos(beta)**2, 1-(1-sympy.cos(xi))/2)\n",
    "temp = temp.simplify()\n",
    "lk_energy = temp\n",
    "lk_energy"
   ]
  },
  {
   "cell_type": "markdown",
   "metadata": {},
   "source": [
    "We can show that this reduces to the more familiar form, i.e. equation B6 in Hamilton and Rafikov 2019"
   ]
  },
  {
   "cell_type": "code",
   "execution_count": 46,
   "metadata": {},
   "outputs": [
    {
     "data": {
      "image/png": "[encoded data removed]",
      "text/latex": [
       "$\\displaystyle \\frac{G M a^{2} \\mu \\sqrt{1 - E^{2}} \\left(9 e^{2} \\cos^{2}{\\left(\\alpha \\right)} - 3 e^{2} + 6 \\cos^{2}{\\left(\\alpha \\right)} - 2\\right)}{16 A^{3}}$"
      ],
      "text/plain": [
       "            ________                                      \n",
       "     2     ╱      2  ⎛   2    2         2        2       ⎞\n",
       "G⋅M⋅a ⋅μ⋅╲╱  1 - E  ⋅⎝9⋅e ⋅cos (α) - 3⋅e  + 6⋅cos (α) - 2⎠\n",
       "──────────────────────────────────────────────────────────\n",
       "                              3                           \n",
       "                          16⋅A                            "
      ]
     },
     "execution_count": 46,
     "metadata": {},
     "output_type": "execute_result"
    }
   ],
   "source": [
    "temp = lk_energy.subs(xi,sympy.pi/2)\n",
    "temp = temp.subs(sympy.sin(alpha)**2,1-sympy.cos(alpha)**2)\n",
    "temp.simplify()"
   ]
  },
  {
   "cell_type": "code",
   "execution_count": 50,
   "metadata": {},
   "outputs": [
    {
     "data": {
      "image/png": "[encoded data removed]",
      "text/latex": [
       "$\\displaystyle \\frac{15 G M a^{2} e^{2} \\mu \\sqrt{1 - E^{2}} \\sin^{2}{\\left(\\alpha \\right)}}{16 A^{3}}$"
      ],
      "text/plain": [
       "                  ________        \n",
       "        2  2     ╱      2     2   \n",
       "15⋅G⋅M⋅a ⋅e ⋅μ⋅╲╱  1 - E  ⋅sin (α)\n",
       "──────────────────────────────────\n",
       "                  3               \n",
       "              16⋅A                "
      ]
     },
     "execution_count": 50,
     "metadata": {},
     "output_type": "execute_result"
    }
   ],
   "source": [
    "temp = lk_energy\n",
    "temp = temp.diff(xi)\n",
    "temp = temp.subs(xi,sympy.pi/2)\n",
    "temp"
   ]
  },
  {
   "cell_type": "code",
   "execution_count": null,
   "metadata": {},
   "outputs": [],
   "source": []
  }
 ],
 "metadata": {
  "kernelspec": {
   "display_name": "Python 3",
   "language": "python",
   "name": "python3"
  },
  "language_info": {
   "codemirror_mode": {
    "name": "ipython",
    "version": 3
   },
   "file_extension": ".py",
   "mimetype": "text/x-python",
   "name": "python",
   "nbconvert_exporter": "python",
   "pygments_lexer": "ipython3",
   "version": "3.7.1"
  }
 },
 "nbformat": 4,
 "nbformat_minor": 2
}
